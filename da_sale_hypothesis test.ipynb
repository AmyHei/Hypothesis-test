{
 "cells": [
  {
   "cell_type": "code",
   "execution_count": 1,
   "metadata": {},
   "outputs": [],
   "source": [
    "import statsmodels.api as sm\n",
    "import numpy as np\n",
    "import matplotlib.pyplot as plt\n",
    "import pandas as pd\n",
    "import seaborn as sns\n",
    "import scipy\n",
    "from scipy import stats\n",
    "import seaborn as sns"
   ]
  },
  {
   "attachments": {},
   "cell_type": "markdown",
   "metadata": {},
   "source": [
    "Research Question:\n",
    "\n",
    "Considering two sample average sale prices per buyer in the data, do option 0 have a significantly different mean buying price than option 1?\n",
    "\n",
    "Population: all average sale price of per buyer. Parameter of Interest: mu1, mu2, and degree of freedom\n",
    "\n",
    "Hypothesis:\n",
    "\n",
    "Null Hypothesis: mu1 = mu2\n",
    "Alternative Hypothesis: mu1 <> mu2\n",
    "\n",
    "Data:\n",
    "\n",
    "1896 option 0 mu1 = 22567.8\n",
    "\n",
    "1859 option 1 mu2 = 24859.4\n",
    "\n",
    "mu_1 - mu_2 = -2291.6\n"
   ]
  },
  {
   "cell_type": "markdown",
   "metadata": {},
   "source": [
    "Step 1: input data"
   ]
  },
  {
   "cell_type": "code",
   "execution_count": 2,
   "metadata": {},
   "outputs": [
    {
     "data": {
      "text/html": [
       "<div>\n",
       "<style scoped>\n",
       "    .dataframe tbody tr th:only-of-type {\n",
       "        vertical-align: middle;\n",
       "    }\n",
       "\n",
       "    .dataframe tbody tr th {\n",
       "        vertical-align: top;\n",
       "    }\n",
       "\n",
       "    .dataframe thead th {\n",
       "        text-align: right;\n",
       "    }\n",
       "</style>\n",
       "<table border=\"1\" class=\"dataframe\">\n",
       "  <thead>\n",
       "    <tr style=\"text-align: right;\">\n",
       "      <th></th>\n",
       "      <th>user_id</th>\n",
       "      <th>test_option</th>\n",
       "      <th>sale_dt</th>\n",
       "      <th>category</th>\n",
       "      <th>orderid</th>\n",
       "      <th>sale_price</th>\n",
       "      <th>gender</th>\n",
       "      <th>age</th>\n",
       "    </tr>\n",
       "  </thead>\n",
       "  <tbody>\n",
       "    <tr>\n",
       "      <th>0</th>\n",
       "      <td>19916</td>\n",
       "      <td>0.0</td>\n",
       "      <td>20200224.0</td>\n",
       "      <td>6.0</td>\n",
       "      <td>2.100010e+13</td>\n",
       "      <td>2500.0</td>\n",
       "      <td>M</td>\n",
       "      <td>25.0</td>\n",
       "    </tr>\n",
       "    <tr>\n",
       "      <th>1</th>\n",
       "      <td>19916</td>\n",
       "      <td>0.0</td>\n",
       "      <td>20200224.0</td>\n",
       "      <td>6.0</td>\n",
       "      <td>2.100010e+13</td>\n",
       "      <td>5000.0</td>\n",
       "      <td>M</td>\n",
       "      <td>25.0</td>\n",
       "    </tr>\n",
       "    <tr>\n",
       "      <th>2</th>\n",
       "      <td>19916</td>\n",
       "      <td>0.0</td>\n",
       "      <td>20200224.0</td>\n",
       "      <td>6.0</td>\n",
       "      <td>2.100010e+13</td>\n",
       "      <td>5000.0</td>\n",
       "      <td>M</td>\n",
       "      <td>25.0</td>\n",
       "    </tr>\n",
       "    <tr>\n",
       "      <th>3</th>\n",
       "      <td>19824</td>\n",
       "      <td>0.0</td>\n",
       "      <td>20200212.0</td>\n",
       "      <td>2.0</td>\n",
       "      <td>2.000060e+12</td>\n",
       "      <td>29970.0</td>\n",
       "      <td>M</td>\n",
       "      <td>60.0</td>\n",
       "    </tr>\n",
       "    <tr>\n",
       "      <th>4</th>\n",
       "      <td>19824</td>\n",
       "      <td>0.0</td>\n",
       "      <td>20200212.0</td>\n",
       "      <td>2.0</td>\n",
       "      <td>2.000060e+12</td>\n",
       "      <td>2500.0</td>\n",
       "      <td>M</td>\n",
       "      <td>60.0</td>\n",
       "    </tr>\n",
       "  </tbody>\n",
       "</table>\n",
       "</div>"
      ],
      "text/plain": [
       "  user_id  test_option     sale_dt  category       orderid  sale_price gender  \\\n",
       "0   19916          0.0  20200224.0       6.0  2.100010e+13      2500.0      M   \n",
       "1   19916          0.0  20200224.0       6.0  2.100010e+13      5000.0      M   \n",
       "2   19916          0.0  20200224.0       6.0  2.100010e+13      5000.0      M   \n",
       "3   19824          0.0  20200212.0       2.0  2.000060e+12     29970.0      M   \n",
       "4   19824          0.0  20200212.0       2.0  2.000060e+12      2500.0      M   \n",
       "\n",
       "    age  \n",
       "0  25.0  \n",
       "1  25.0  \n",
       "2  25.0  \n",
       "3  60.0  \n",
       "4  60.0  "
      ]
     },
     "execution_count": 2,
     "metadata": {},
     "output_type": "execute_result"
    }
   ],
   "source": [
    "df = pd.read_csv(\"/Users/yaqinhei/Downloads/project/basalesdata.csv\", error_bad_lines=False, engine=\"python\")\n",
    "df.head()"
   ]
  },
  {
   "cell_type": "code",
   "execution_count": 3,
   "metadata": {},
   "outputs": [
    {
     "data": {
      "text/html": [
       "<div>\n",
       "<style scoped>\n",
       "    .dataframe tbody tr th:only-of-type {\n",
       "        vertical-align: middle;\n",
       "    }\n",
       "\n",
       "    .dataframe tbody tr th {\n",
       "        vertical-align: top;\n",
       "    }\n",
       "\n",
       "    .dataframe thead th {\n",
       "        text-align: right;\n",
       "    }\n",
       "</style>\n",
       "<table border=\"1\" class=\"dataframe\">\n",
       "  <thead>\n",
       "    <tr style=\"text-align: right;\">\n",
       "      <th></th>\n",
       "      <th>user_id</th>\n",
       "      <th>test_option</th>\n",
       "      <th>sale_dt</th>\n",
       "      <th>category</th>\n",
       "      <th>orderid</th>\n",
       "      <th>sale_price</th>\n",
       "      <th>gender</th>\n",
       "      <th>age</th>\n",
       "    </tr>\n",
       "  </thead>\n",
       "  <tbody>\n",
       "    <tr>\n",
       "      <th>150512</th>\n",
       "      <td>L��\b�\f",
       "L�L\f",
       "\u000b",
       "\b�H�\f",
       "��\u000b",
       "\f",
       "\u000b",
       "\f",
       "�\f",
       "�\f",
       "\f",
       "��K\f",
       "\u000b",
       "\b�̌</td>\n",
       "      <td>NaN</td>\n",
       "      <td>NaN</td>\n",
       "      <td>NaN</td>\n",
       "      <td>NaN</td>\n",
       "      <td>NaN</td>\n",
       "      <td>NaN</td>\n",
       "      <td>NaN</td>\n",
       "    </tr>\n",
       "    <tr>\n",
       "      <th>150513</th>\n",
       "      <td>�\f",
       "�\f",
       "\f",
       "\u000e</td>\n",
       "      <td>NaN</td>\n",
       "      <td>NaN</td>\n",
       "      <td>NaN</td>\n",
       "      <td>NaN</td>\n",
       "      <td>NaN</td>\n",
       "      <td>NaN</td>\n",
       "      <td>NaN</td>\n",
       "    </tr>\n",
       "    <tr>\n",
       "      <th>150514</th>\n",
       "      <td>\b�\f",
       "L\u000eL\f",
       "\u000b",
       "\b�H�\f",
       "��\u000b",
       "\f",
       "\u000b",
       "\f",
       "�\f",
       "�\f",
       "\f",
       "��K\u000eK\b�̌</td>\n",
       "      <td>NaN</td>\n",
       "      <td>NaN</td>\n",
       "      <td>NaN</td>\n",
       "      <td>NaN</td>\n",
       "      <td>NaN</td>\n",
       "      <td>NaN</td>\n",
       "      <td>NaN</td>\n",
       "    </tr>\n",
       "    <tr>\n",
       "      <th>150515</th>\n",
       "      <td>�\f",
       "�\f",
       "̌\f",
       "\b�</td>\n",
       "      <td>NaN</td>\n",
       "      <td>NaN</td>\n",
       "      <td>NaN</td>\n",
       "      <td>NaN</td>\n",
       "      <td>NaN</td>\n",
       "      <td>NaN</td>\n",
       "      <td>NaN</td>\n",
       "    </tr>\n",
       "    <tr>\n",
       "      <th>150516</th>\n",
       "      <td>NM�\u000b",
       "\b�H�\f",
       "��</td>\n",
       "      <td>NaN</td>\n",
       "      <td>NaN</td>\n",
       "      <td>NaN</td>\n",
       "      <td>NaN</td>\n",
       "      <td>NaN</td>\n",
       "      <td>NaN</td>\n",
       "      <td>NaN</td>\n",
       "    </tr>\n",
       "  </tbody>\n",
       "</table>\n",
       "</div>"
      ],
      "text/plain": [
       "                                        user_id  test_option  sale_dt  \\\n",
       "150512  L��\b�\n",
       "L�L\n",
       "\n",
       "\b�H�\n",
       "��\n",
       "\n",
       "\n",
       "\n",
       "�\n",
       "�\n",
       "\n",
       "��K\n",
       "\n",
       "\b�̌\n",
       "\n",
       "\n",
       "          NaN      NaN   \n",
       "150513                                   �\n",
       "�\n",
       "\n",
       "\u000e          NaN      NaN   \n",
       "150514     \b�\n",
       "L\u000eL\n",
       "\n",
       "\b�H�\n",
       "��\n",
       "\n",
       "\n",
       "\n",
       "�\n",
       "�\n",
       "\n",
       "��K\u000eK\b�̌\n",
       "\n",
       "\n",
       "          NaN      NaN   \n",
       "150515                                 �\n",
       "�\n",
       "̌\n",
       "\b�          NaN      NaN   \n",
       "150516                              NM�\n",
       "\b�H�\n",
       "��          NaN      NaN   \n",
       "\n",
       "        category  orderid  sale_price gender  age  \n",
       "150512       NaN      NaN         NaN    NaN  NaN  \n",
       "150513       NaN      NaN         NaN    NaN  NaN  \n",
       "150514       NaN      NaN         NaN    NaN  NaN  \n",
       "150515       NaN      NaN         NaN    NaN  NaN  \n",
       "150516       NaN      NaN         NaN    NaN  NaN  "
      ]
     },
     "execution_count": 3,
     "metadata": {},
     "output_type": "execute_result"
    }
   ],
   "source": [
    "df.tail()"
   ]
  },
  {
   "cell_type": "markdown",
   "metadata": {},
   "source": [
    "Step 2: Data Cleansing process"
   ]
  },
  {
   "cell_type": "code",
   "execution_count": 4,
   "metadata": {},
   "outputs": [
    {
     "data": {
      "text/html": [
       "<div>\n",
       "<style scoped>\n",
       "    .dataframe tbody tr th:only-of-type {\n",
       "        vertical-align: middle;\n",
       "    }\n",
       "\n",
       "    .dataframe tbody tr th {\n",
       "        vertical-align: top;\n",
       "    }\n",
       "\n",
       "    .dataframe thead th {\n",
       "        text-align: right;\n",
       "    }\n",
       "</style>\n",
       "<table border=\"1\" class=\"dataframe\">\n",
       "  <thead>\n",
       "    <tr style=\"text-align: right;\">\n",
       "      <th></th>\n",
       "      <th>test_option</th>\n",
       "      <th>sale_dt</th>\n",
       "      <th>category</th>\n",
       "      <th>orderid</th>\n",
       "      <th>sale_price</th>\n",
       "      <th>age</th>\n",
       "    </tr>\n",
       "  </thead>\n",
       "  <tbody>\n",
       "    <tr>\n",
       "      <th>count</th>\n",
       "      <td>40097.000000</td>\n",
       "      <td>4.009700e+04</td>\n",
       "      <td>40097.000000</td>\n",
       "      <td>4.009700e+04</td>\n",
       "      <td>4.009700e+04</td>\n",
       "      <td>40096.000000</td>\n",
       "    </tr>\n",
       "    <tr>\n",
       "      <th>mean</th>\n",
       "      <td>0.516647</td>\n",
       "      <td>2.020022e+07</td>\n",
       "      <td>4.597975</td>\n",
       "      <td>1.648506e+13</td>\n",
       "      <td>1.186761e+04</td>\n",
       "      <td>70.424232</td>\n",
       "    </tr>\n",
       "    <tr>\n",
       "      <th>std</th>\n",
       "      <td>0.499729</td>\n",
       "      <td>4.912304e+00</td>\n",
       "      <td>2.912871</td>\n",
       "      <td>9.182205e+12</td>\n",
       "      <td>5.141111e+04</td>\n",
       "      <td>166.293871</td>\n",
       "    </tr>\n",
       "    <tr>\n",
       "      <th>min</th>\n",
       "      <td>0.000000</td>\n",
       "      <td>2.020021e+07</td>\n",
       "      <td>0.000000</td>\n",
       "      <td>1.000060e+12</td>\n",
       "      <td>-1.595000e+06</td>\n",
       "      <td>16.000000</td>\n",
       "    </tr>\n",
       "    <tr>\n",
       "      <th>25%</th>\n",
       "      <td>0.000000</td>\n",
       "      <td>2.020022e+07</td>\n",
       "      <td>2.000000</td>\n",
       "      <td>8.000060e+12</td>\n",
       "      <td>2.900000e+03</td>\n",
       "      <td>35.000000</td>\n",
       "    </tr>\n",
       "    <tr>\n",
       "      <th>50%</th>\n",
       "      <td>1.000000</td>\n",
       "      <td>2.020022e+07</td>\n",
       "      <td>5.000000</td>\n",
       "      <td>1.600010e+13</td>\n",
       "      <td>7.900000e+03</td>\n",
       "      <td>41.000000</td>\n",
       "    </tr>\n",
       "    <tr>\n",
       "      <th>75%</th>\n",
       "      <td>1.000000</td>\n",
       "      <td>2.020022e+07</td>\n",
       "      <td>7.000000</td>\n",
       "      <td>2.400010e+13</td>\n",
       "      <td>1.541000e+04</td>\n",
       "      <td>48.000000</td>\n",
       "    </tr>\n",
       "    <tr>\n",
       "      <th>max</th>\n",
       "      <td>1.000000</td>\n",
       "      <td>2.020023e+07</td>\n",
       "      <td>9.000000</td>\n",
       "      <td>3.200010e+13</td>\n",
       "      <td>1.760000e+06</td>\n",
       "      <td>999.000000</td>\n",
       "    </tr>\n",
       "  </tbody>\n",
       "</table>\n",
       "</div>"
      ],
      "text/plain": [
       "        test_option       sale_dt      category       orderid    sale_price  \\\n",
       "count  40097.000000  4.009700e+04  40097.000000  4.009700e+04  4.009700e+04   \n",
       "mean       0.516647  2.020022e+07      4.597975  1.648506e+13  1.186761e+04   \n",
       "std        0.499729  4.912304e+00      2.912871  9.182205e+12  5.141111e+04   \n",
       "min        0.000000  2.020021e+07      0.000000  1.000060e+12 -1.595000e+06   \n",
       "25%        0.000000  2.020022e+07      2.000000  8.000060e+12  2.900000e+03   \n",
       "50%        1.000000  2.020022e+07      5.000000  1.600010e+13  7.900000e+03   \n",
       "75%        1.000000  2.020022e+07      7.000000  2.400010e+13  1.541000e+04   \n",
       "max        1.000000  2.020023e+07      9.000000  3.200010e+13  1.760000e+06   \n",
       "\n",
       "                age  \n",
       "count  40096.000000  \n",
       "mean      70.424232  \n",
       "std      166.293871  \n",
       "min       16.000000  \n",
       "25%       35.000000  \n",
       "50%       41.000000  \n",
       "75%       48.000000  \n",
       "max      999.000000  "
      ]
     },
     "execution_count": 4,
     "metadata": {},
     "output_type": "execute_result"
    }
   ],
   "source": [
    "df.describe()"
   ]
  },
  {
   "attachments": {},
   "cell_type": "markdown",
   "metadata": {},
   "source": [
    "Data cleansing note:\n",
    "\n",
    "1 Notice that there is some negative value under \"sale_price\" column, some show negative because buyers canceled the products and refund their credit. However, some just shows negative when we deep dive the data. \n",
    "\n",
    "Solution：First, we want to drop those orders for sale price < 0, because whenever buyers canceled their orders later or just error input order, those orders have not close relationship with our question ‘average spending per buyer for each test option’ in my mind. \n",
    "\n",
    "But we need to communicate with business side to make sure why some order's price show negative in real situation.\n",
    "\n",
    "\n",
    "2 Notice that some value under \"age\" column shows 999, but those input do not include our test result, so at this part, I think we should not deal with those value. \n",
    "\n",
    "3 There are some letters garbled at last row, \"error_bad_lines=False\" would fix this to open .csv file. dropped those rows since NAN only appear after row 40097\n"
   ]
  },
  {
   "cell_type": "markdown",
   "metadata": {},
   "source": [
    "Below we start to deal with NAN value:"
   ]
  },
  {
   "cell_type": "code",
   "execution_count": 5,
   "metadata": {},
   "outputs": [
    {
     "data": {
      "text/plain": [
       "(150517, 8)"
      ]
     },
     "execution_count": 5,
     "metadata": {},
     "output_type": "execute_result"
    }
   ],
   "source": [
    "df.shape"
   ]
  },
  {
   "cell_type": "code",
   "execution_count": 6,
   "metadata": {},
   "outputs": [
    {
     "data": {
      "text/html": [
       "<div>\n",
       "<style scoped>\n",
       "    .dataframe tbody tr th:only-of-type {\n",
       "        vertical-align: middle;\n",
       "    }\n",
       "\n",
       "    .dataframe tbody tr th {\n",
       "        vertical-align: top;\n",
       "    }\n",
       "\n",
       "    .dataframe thead th {\n",
       "        text-align: right;\n",
       "    }\n",
       "</style>\n",
       "<table border=\"1\" class=\"dataframe\">\n",
       "  <thead>\n",
       "    <tr style=\"text-align: right;\">\n",
       "      <th></th>\n",
       "      <th>user_id</th>\n",
       "      <th>test_option</th>\n",
       "      <th>sale_dt</th>\n",
       "      <th>category</th>\n",
       "      <th>orderid</th>\n",
       "      <th>sale_price</th>\n",
       "      <th>gender</th>\n",
       "      <th>age</th>\n",
       "    </tr>\n",
       "  </thead>\n",
       "  <tbody>\n",
       "    <tr>\n",
       "      <th>0</th>\n",
       "      <td>19916</td>\n",
       "      <td>0.0</td>\n",
       "      <td>20200224.0</td>\n",
       "      <td>6.0</td>\n",
       "      <td>2.100010e+13</td>\n",
       "      <td>2500.0</td>\n",
       "      <td>M</td>\n",
       "      <td>25.0</td>\n",
       "    </tr>\n",
       "    <tr>\n",
       "      <th>1</th>\n",
       "      <td>19916</td>\n",
       "      <td>0.0</td>\n",
       "      <td>20200224.0</td>\n",
       "      <td>6.0</td>\n",
       "      <td>2.100010e+13</td>\n",
       "      <td>5000.0</td>\n",
       "      <td>M</td>\n",
       "      <td>25.0</td>\n",
       "    </tr>\n",
       "    <tr>\n",
       "      <th>2</th>\n",
       "      <td>19916</td>\n",
       "      <td>0.0</td>\n",
       "      <td>20200224.0</td>\n",
       "      <td>6.0</td>\n",
       "      <td>2.100010e+13</td>\n",
       "      <td>5000.0</td>\n",
       "      <td>M</td>\n",
       "      <td>25.0</td>\n",
       "    </tr>\n",
       "    <tr>\n",
       "      <th>3</th>\n",
       "      <td>19824</td>\n",
       "      <td>0.0</td>\n",
       "      <td>20200212.0</td>\n",
       "      <td>2.0</td>\n",
       "      <td>2.000060e+12</td>\n",
       "      <td>29970.0</td>\n",
       "      <td>M</td>\n",
       "      <td>60.0</td>\n",
       "    </tr>\n",
       "    <tr>\n",
       "      <th>4</th>\n",
       "      <td>19824</td>\n",
       "      <td>0.0</td>\n",
       "      <td>20200212.0</td>\n",
       "      <td>2.0</td>\n",
       "      <td>2.000060e+12</td>\n",
       "      <td>2500.0</td>\n",
       "      <td>M</td>\n",
       "      <td>60.0</td>\n",
       "    </tr>\n",
       "    <tr>\n",
       "      <th>...</th>\n",
       "      <td>...</td>\n",
       "      <td>...</td>\n",
       "      <td>...</td>\n",
       "      <td>...</td>\n",
       "      <td>...</td>\n",
       "      <td>...</td>\n",
       "      <td>...</td>\n",
       "      <td>...</td>\n",
       "    </tr>\n",
       "    <tr>\n",
       "      <th>40091</th>\n",
       "      <td>19589</td>\n",
       "      <td>1.0</td>\n",
       "      <td>20200217.0</td>\n",
       "      <td>2.0</td>\n",
       "      <td>2.600010e+13</td>\n",
       "      <td>30300.0</td>\n",
       "      <td>M</td>\n",
       "      <td>26.0</td>\n",
       "    </tr>\n",
       "    <tr>\n",
       "      <th>40092</th>\n",
       "      <td>19589</td>\n",
       "      <td>1.0</td>\n",
       "      <td>20200213.0</td>\n",
       "      <td>3.0</td>\n",
       "      <td>2.600010e+13</td>\n",
       "      <td>23250.0</td>\n",
       "      <td>M</td>\n",
       "      <td>26.0</td>\n",
       "    </tr>\n",
       "    <tr>\n",
       "      <th>40093</th>\n",
       "      <td>19589</td>\n",
       "      <td>1.0</td>\n",
       "      <td>20200213.0</td>\n",
       "      <td>7.0</td>\n",
       "      <td>2.600010e+13</td>\n",
       "      <td>63800.0</td>\n",
       "      <td>M</td>\n",
       "      <td>26.0</td>\n",
       "    </tr>\n",
       "    <tr>\n",
       "      <th>40094</th>\n",
       "      <td>19589</td>\n",
       "      <td>1.0</td>\n",
       "      <td>20200214.0</td>\n",
       "      <td>1.0</td>\n",
       "      <td>2.600010e+13</td>\n",
       "      <td>46900.0</td>\n",
       "      <td>M</td>\n",
       "      <td>26.0</td>\n",
       "    </tr>\n",
       "    <tr>\n",
       "      <th>40095</th>\n",
       "      <td>19538</td>\n",
       "      <td>1.0</td>\n",
       "      <td>20200226.0</td>\n",
       "      <td>7.0</td>\n",
       "      <td>2.500010e+13</td>\n",
       "      <td>9900.0</td>\n",
       "      <td>M</td>\n",
       "      <td>42.0</td>\n",
       "    </tr>\n",
       "  </tbody>\n",
       "</table>\n",
       "<p>40096 rows × 8 columns</p>\n",
       "</div>"
      ],
      "text/plain": [
       "      user_id  test_option     sale_dt  category       orderid  sale_price  \\\n",
       "0       19916          0.0  20200224.0       6.0  2.100010e+13      2500.0   \n",
       "1       19916          0.0  20200224.0       6.0  2.100010e+13      5000.0   \n",
       "2       19916          0.0  20200224.0       6.0  2.100010e+13      5000.0   \n",
       "3       19824          0.0  20200212.0       2.0  2.000060e+12     29970.0   \n",
       "4       19824          0.0  20200212.0       2.0  2.000060e+12      2500.0   \n",
       "...       ...          ...         ...       ...           ...         ...   \n",
       "40091   19589          1.0  20200217.0       2.0  2.600010e+13     30300.0   \n",
       "40092   19589          1.0  20200213.0       3.0  2.600010e+13     23250.0   \n",
       "40093   19589          1.0  20200213.0       7.0  2.600010e+13     63800.0   \n",
       "40094   19589          1.0  20200214.0       1.0  2.600010e+13     46900.0   \n",
       "40095   19538          1.0  20200226.0       7.0  2.500010e+13      9900.0   \n",
       "\n",
       "      gender   age  \n",
       "0          M  25.0  \n",
       "1          M  25.0  \n",
       "2          M  25.0  \n",
       "3          M  60.0  \n",
       "4          M  60.0  \n",
       "...      ...   ...  \n",
       "40091      M  26.0  \n",
       "40092      M  26.0  \n",
       "40093      M  26.0  \n",
       "40094      M  26.0  \n",
       "40095      M  42.0  \n",
       "\n",
       "[40096 rows x 8 columns]"
      ]
     },
     "execution_count": 6,
     "metadata": {},
     "output_type": "execute_result"
    }
   ],
   "source": [
    "df = df.dropna() \n",
    "df"
   ]
  },
  {
   "cell_type": "markdown",
   "metadata": {},
   "source": [
    "Below start to deal with negative value in colum \"sale_price\""
   ]
  },
  {
   "cell_type": "code",
   "execution_count": 8,
   "metadata": {},
   "outputs": [
    {
     "data": {
      "text/html": [
       "<div>\n",
       "<style scoped>\n",
       "    .dataframe tbody tr th:only-of-type {\n",
       "        vertical-align: middle;\n",
       "    }\n",
       "\n",
       "    .dataframe tbody tr th {\n",
       "        vertical-align: top;\n",
       "    }\n",
       "\n",
       "    .dataframe thead th {\n",
       "        text-align: right;\n",
       "    }\n",
       "</style>\n",
       "<table border=\"1\" class=\"dataframe\">\n",
       "  <thead>\n",
       "    <tr style=\"text-align: right;\">\n",
       "      <th></th>\n",
       "      <th>test_option</th>\n",
       "      <th>sale_dt</th>\n",
       "      <th>category</th>\n",
       "      <th>orderid</th>\n",
       "      <th>sale_price</th>\n",
       "      <th>age</th>\n",
       "    </tr>\n",
       "  </thead>\n",
       "  <tbody>\n",
       "    <tr>\n",
       "      <th>count</th>\n",
       "      <td>40096.000000</td>\n",
       "      <td>4.009600e+04</td>\n",
       "      <td>40096.000000</td>\n",
       "      <td>4.009600e+04</td>\n",
       "      <td>4.009600e+04</td>\n",
       "      <td>40096.000000</td>\n",
       "    </tr>\n",
       "    <tr>\n",
       "      <th>mean</th>\n",
       "      <td>0.516635</td>\n",
       "      <td>2.020022e+07</td>\n",
       "      <td>4.597940</td>\n",
       "      <td>1.648522e+13</td>\n",
       "      <td>1.186771e+04</td>\n",
       "      <td>70.424232</td>\n",
       "    </tr>\n",
       "    <tr>\n",
       "      <th>std</th>\n",
       "      <td>0.499729</td>\n",
       "      <td>4.912362e+00</td>\n",
       "      <td>2.912899</td>\n",
       "      <td>9.182262e+12</td>\n",
       "      <td>5.141175e+04</td>\n",
       "      <td>166.293871</td>\n",
       "    </tr>\n",
       "    <tr>\n",
       "      <th>min</th>\n",
       "      <td>0.000000</td>\n",
       "      <td>2.020021e+07</td>\n",
       "      <td>0.000000</td>\n",
       "      <td>1.000060e+12</td>\n",
       "      <td>-1.595000e+06</td>\n",
       "      <td>16.000000</td>\n",
       "    </tr>\n",
       "    <tr>\n",
       "      <th>25%</th>\n",
       "      <td>0.000000</td>\n",
       "      <td>2.020022e+07</td>\n",
       "      <td>2.000000</td>\n",
       "      <td>8.000060e+12</td>\n",
       "      <td>2.900000e+03</td>\n",
       "      <td>35.000000</td>\n",
       "    </tr>\n",
       "    <tr>\n",
       "      <th>50%</th>\n",
       "      <td>1.000000</td>\n",
       "      <td>2.020022e+07</td>\n",
       "      <td>5.000000</td>\n",
       "      <td>1.600010e+13</td>\n",
       "      <td>7.900000e+03</td>\n",
       "      <td>41.000000</td>\n",
       "    </tr>\n",
       "    <tr>\n",
       "      <th>75%</th>\n",
       "      <td>1.000000</td>\n",
       "      <td>2.020022e+07</td>\n",
       "      <td>7.000000</td>\n",
       "      <td>2.400010e+13</td>\n",
       "      <td>1.541000e+04</td>\n",
       "      <td>48.000000</td>\n",
       "    </tr>\n",
       "    <tr>\n",
       "      <th>max</th>\n",
       "      <td>1.000000</td>\n",
       "      <td>2.020023e+07</td>\n",
       "      <td>9.000000</td>\n",
       "      <td>3.200010e+13</td>\n",
       "      <td>1.760000e+06</td>\n",
       "      <td>999.000000</td>\n",
       "    </tr>\n",
       "  </tbody>\n",
       "</table>\n",
       "</div>"
      ],
      "text/plain": [
       "        test_option       sale_dt      category       orderid    sale_price  \\\n",
       "count  40096.000000  4.009600e+04  40096.000000  4.009600e+04  4.009600e+04   \n",
       "mean       0.516635  2.020022e+07      4.597940  1.648522e+13  1.186771e+04   \n",
       "std        0.499729  4.912362e+00      2.912899  9.182262e+12  5.141175e+04   \n",
       "min        0.000000  2.020021e+07      0.000000  1.000060e+12 -1.595000e+06   \n",
       "25%        0.000000  2.020022e+07      2.000000  8.000060e+12  2.900000e+03   \n",
       "50%        1.000000  2.020022e+07      5.000000  1.600010e+13  7.900000e+03   \n",
       "75%        1.000000  2.020022e+07      7.000000  2.400010e+13  1.541000e+04   \n",
       "max        1.000000  2.020023e+07      9.000000  3.200010e+13  1.760000e+06   \n",
       "\n",
       "                age  \n",
       "count  40096.000000  \n",
       "mean      70.424232  \n",
       "std      166.293871  \n",
       "min       16.000000  \n",
       "25%       35.000000  \n",
       "50%       41.000000  \n",
       "75%       48.000000  \n",
       "max      999.000000  "
      ]
     },
     "execution_count": 8,
     "metadata": {},
     "output_type": "execute_result"
    }
   ],
   "source": [
    "df.describe()"
   ]
  },
  {
   "cell_type": "code",
   "execution_count": 9,
   "metadata": {},
   "outputs": [
    {
     "data": {
      "text/html": [
       "<div>\n",
       "<style scoped>\n",
       "    .dataframe tbody tr th:only-of-type {\n",
       "        vertical-align: middle;\n",
       "    }\n",
       "\n",
       "    .dataframe tbody tr th {\n",
       "        vertical-align: top;\n",
       "    }\n",
       "\n",
       "    .dataframe thead th {\n",
       "        text-align: right;\n",
       "    }\n",
       "</style>\n",
       "<table border=\"1\" class=\"dataframe\">\n",
       "  <thead>\n",
       "    <tr style=\"text-align: right;\">\n",
       "      <th></th>\n",
       "      <th>user_id</th>\n",
       "      <th>test_option</th>\n",
       "      <th>sale_dt</th>\n",
       "      <th>category</th>\n",
       "      <th>orderid</th>\n",
       "      <th>sale_price</th>\n",
       "      <th>gender</th>\n",
       "      <th>age</th>\n",
       "    </tr>\n",
       "  </thead>\n",
       "  <tbody>\n",
       "    <tr>\n",
       "      <th>31166</th>\n",
       "      <td>6270</td>\n",
       "      <td>1.0</td>\n",
       "      <td>20200214.0</td>\n",
       "      <td>2.0</td>\n",
       "      <td>1.500010e+13</td>\n",
       "      <td>-1595000.0</td>\n",
       "      <td>M</td>\n",
       "      <td>30.0</td>\n",
       "    </tr>\n",
       "    <tr>\n",
       "      <th>31164</th>\n",
       "      <td>6270</td>\n",
       "      <td>1.0</td>\n",
       "      <td>20200217.0</td>\n",
       "      <td>2.0</td>\n",
       "      <td>1.500010e+13</td>\n",
       "      <td>-1595000.0</td>\n",
       "      <td>M</td>\n",
       "      <td>30.0</td>\n",
       "    </tr>\n",
       "    <tr>\n",
       "      <th>27109</th>\n",
       "      <td>13351</td>\n",
       "      <td>0.0</td>\n",
       "      <td>20200219.0</td>\n",
       "      <td>2.0</td>\n",
       "      <td>5.000060e+12</td>\n",
       "      <td>-1479000.0</td>\n",
       "      <td>M</td>\n",
       "      <td>45.0</td>\n",
       "    </tr>\n",
       "    <tr>\n",
       "      <th>27110</th>\n",
       "      <td>13351</td>\n",
       "      <td>0.0</td>\n",
       "      <td>20200219.0</td>\n",
       "      <td>2.0</td>\n",
       "      <td>5.000060e+12</td>\n",
       "      <td>-1479000.0</td>\n",
       "      <td>M</td>\n",
       "      <td>45.0</td>\n",
       "    </tr>\n",
       "    <tr>\n",
       "      <th>20509</th>\n",
       "      <td>12061</td>\n",
       "      <td>1.0</td>\n",
       "      <td>20200214.0</td>\n",
       "      <td>3.0</td>\n",
       "      <td>1.200010e+13</td>\n",
       "      <td>-1369660.0</td>\n",
       "      <td>M</td>\n",
       "      <td>40.0</td>\n",
       "    </tr>\n",
       "    <tr>\n",
       "      <th>...</th>\n",
       "      <td>...</td>\n",
       "      <td>...</td>\n",
       "      <td>...</td>\n",
       "      <td>...</td>\n",
       "      <td>...</td>\n",
       "      <td>...</td>\n",
       "      <td>...</td>\n",
       "      <td>...</td>\n",
       "    </tr>\n",
       "    <tr>\n",
       "      <th>25540</th>\n",
       "      <td>6044</td>\n",
       "      <td>0.0</td>\n",
       "      <td>20200224.0</td>\n",
       "      <td>6.0</td>\n",
       "      <td>2.700010e+13</td>\n",
       "      <td>1579000.0</td>\n",
       "      <td>M</td>\n",
       "      <td>54.0</td>\n",
       "    </tr>\n",
       "    <tr>\n",
       "      <th>31165</th>\n",
       "      <td>6270</td>\n",
       "      <td>1.0</td>\n",
       "      <td>20200214.0</td>\n",
       "      <td>2.0</td>\n",
       "      <td>1.500010e+13</td>\n",
       "      <td>1595000.0</td>\n",
       "      <td>M</td>\n",
       "      <td>30.0</td>\n",
       "    </tr>\n",
       "    <tr>\n",
       "      <th>31167</th>\n",
       "      <td>6270</td>\n",
       "      <td>1.0</td>\n",
       "      <td>20200214.0</td>\n",
       "      <td>2.0</td>\n",
       "      <td>1.500010e+13</td>\n",
       "      <td>1595000.0</td>\n",
       "      <td>M</td>\n",
       "      <td>30.0</td>\n",
       "    </tr>\n",
       "    <tr>\n",
       "      <th>34336</th>\n",
       "      <td>7487</td>\n",
       "      <td>0.0</td>\n",
       "      <td>20200223.0</td>\n",
       "      <td>4.0</td>\n",
       "      <td>3.000010e+13</td>\n",
       "      <td>1680000.0</td>\n",
       "      <td>M</td>\n",
       "      <td>31.0</td>\n",
       "    </tr>\n",
       "    <tr>\n",
       "      <th>1560</th>\n",
       "      <td>6930</td>\n",
       "      <td>0.0</td>\n",
       "      <td>20200214.0</td>\n",
       "      <td>2.0</td>\n",
       "      <td>2.600010e+13</td>\n",
       "      <td>1760000.0</td>\n",
       "      <td>F</td>\n",
       "      <td>32.0</td>\n",
       "    </tr>\n",
       "  </tbody>\n",
       "</table>\n",
       "<p>40096 rows × 8 columns</p>\n",
       "</div>"
      ],
      "text/plain": [
       "      user_id  test_option     sale_dt  category       orderid  sale_price  \\\n",
       "31166    6270          1.0  20200214.0       2.0  1.500010e+13  -1595000.0   \n",
       "31164    6270          1.0  20200217.0       2.0  1.500010e+13  -1595000.0   \n",
       "27109   13351          0.0  20200219.0       2.0  5.000060e+12  -1479000.0   \n",
       "27110   13351          0.0  20200219.0       2.0  5.000060e+12  -1479000.0   \n",
       "20509   12061          1.0  20200214.0       3.0  1.200010e+13  -1369660.0   \n",
       "...       ...          ...         ...       ...           ...         ...   \n",
       "25540    6044          0.0  20200224.0       6.0  2.700010e+13   1579000.0   \n",
       "31165    6270          1.0  20200214.0       2.0  1.500010e+13   1595000.0   \n",
       "31167    6270          1.0  20200214.0       2.0  1.500010e+13   1595000.0   \n",
       "34336    7487          0.0  20200223.0       4.0  3.000010e+13   1680000.0   \n",
       "1560     6930          0.0  20200214.0       2.0  2.600010e+13   1760000.0   \n",
       "\n",
       "      gender   age  \n",
       "31166      M  30.0  \n",
       "31164      M  30.0  \n",
       "27109      M  45.0  \n",
       "27110      M  45.0  \n",
       "20509      M  40.0  \n",
       "...      ...   ...  \n",
       "25540      M  54.0  \n",
       "31165      M  30.0  \n",
       "31167      M  30.0  \n",
       "34336      M  31.0  \n",
       "1560       F  32.0  \n",
       "\n",
       "[40096 rows x 8 columns]"
      ]
     },
     "execution_count": 9,
     "metadata": {},
     "output_type": "execute_result"
    }
   ],
   "source": [
    "df.sort_values(by=['sale_price'], ascending = True)"
   ]
  },
  {
   "cell_type": "code",
   "execution_count": 10,
   "metadata": {},
   "outputs": [
    {
     "data": {
      "text/plain": [
       "(36111, 8)"
      ]
     },
     "execution_count": 10,
     "metadata": {},
     "output_type": "execute_result"
    }
   ],
   "source": [
    "df = df[df[\"sale_price\"]>0]\n",
    "df.shape"
   ]
  },
  {
   "cell_type": "code",
   "execution_count": 11,
   "metadata": {},
   "outputs": [
    {
     "data": {
      "text/html": [
       "<div>\n",
       "<style scoped>\n",
       "    .dataframe tbody tr th:only-of-type {\n",
       "        vertical-align: middle;\n",
       "    }\n",
       "\n",
       "    .dataframe tbody tr th {\n",
       "        vertical-align: top;\n",
       "    }\n",
       "\n",
       "    .dataframe thead th {\n",
       "        text-align: right;\n",
       "    }\n",
       "</style>\n",
       "<table border=\"1\" class=\"dataframe\">\n",
       "  <thead>\n",
       "    <tr style=\"text-align: right;\">\n",
       "      <th></th>\n",
       "      <th>test_option</th>\n",
       "      <th>sale_dt</th>\n",
       "      <th>category</th>\n",
       "      <th>orderid</th>\n",
       "      <th>sale_price</th>\n",
       "      <th>age</th>\n",
       "    </tr>\n",
       "  </thead>\n",
       "  <tbody>\n",
       "    <tr>\n",
       "      <th>count</th>\n",
       "      <td>36111.000000</td>\n",
       "      <td>3.611100e+04</td>\n",
       "      <td>36111.000000</td>\n",
       "      <td>3.611100e+04</td>\n",
       "      <td>3.611100e+04</td>\n",
       "      <td>36111.000000</td>\n",
       "    </tr>\n",
       "    <tr>\n",
       "      <th>mean</th>\n",
       "      <td>0.507602</td>\n",
       "      <td>2.020022e+07</td>\n",
       "      <td>4.575309</td>\n",
       "      <td>1.658210e+13</td>\n",
       "      <td>1.527320e+04</td>\n",
       "      <td>72.055219</td>\n",
       "    </tr>\n",
       "    <tr>\n",
       "      <th>std</th>\n",
       "      <td>0.499949</td>\n",
       "      <td>4.918436e+00</td>\n",
       "      <td>2.905237</td>\n",
       "      <td>9.228180e+12</td>\n",
       "      <td>4.506016e+04</td>\n",
       "      <td>170.787184</td>\n",
       "    </tr>\n",
       "    <tr>\n",
       "      <th>min</th>\n",
       "      <td>0.000000</td>\n",
       "      <td>2.020021e+07</td>\n",
       "      <td>0.000000</td>\n",
       "      <td>1.000060e+12</td>\n",
       "      <td>6.000000e+01</td>\n",
       "      <td>16.000000</td>\n",
       "    </tr>\n",
       "    <tr>\n",
       "      <th>25%</th>\n",
       "      <td>0.000000</td>\n",
       "      <td>2.020022e+07</td>\n",
       "      <td>2.000000</td>\n",
       "      <td>8.000060e+12</td>\n",
       "      <td>4.000000e+03</td>\n",
       "      <td>35.000000</td>\n",
       "    </tr>\n",
       "    <tr>\n",
       "      <th>50%</th>\n",
       "      <td>1.000000</td>\n",
       "      <td>2.020022e+07</td>\n",
       "      <td>5.000000</td>\n",
       "      <td>1.600010e+13</td>\n",
       "      <td>8.980000e+03</td>\n",
       "      <td>40.000000</td>\n",
       "    </tr>\n",
       "    <tr>\n",
       "      <th>75%</th>\n",
       "      <td>1.000000</td>\n",
       "      <td>2.020022e+07</td>\n",
       "      <td>7.000000</td>\n",
       "      <td>2.500010e+13</td>\n",
       "      <td>1.675000e+04</td>\n",
       "      <td>48.000000</td>\n",
       "    </tr>\n",
       "    <tr>\n",
       "      <th>max</th>\n",
       "      <td>1.000000</td>\n",
       "      <td>2.020023e+07</td>\n",
       "      <td>9.000000</td>\n",
       "      <td>3.200010e+13</td>\n",
       "      <td>1.760000e+06</td>\n",
       "      <td>999.000000</td>\n",
       "    </tr>\n",
       "  </tbody>\n",
       "</table>\n",
       "</div>"
      ],
      "text/plain": [
       "        test_option       sale_dt      category       orderid    sale_price  \\\n",
       "count  36111.000000  3.611100e+04  36111.000000  3.611100e+04  3.611100e+04   \n",
       "mean       0.507602  2.020022e+07      4.575309  1.658210e+13  1.527320e+04   \n",
       "std        0.499949  4.918436e+00      2.905237  9.228180e+12  4.506016e+04   \n",
       "min        0.000000  2.020021e+07      0.000000  1.000060e+12  6.000000e+01   \n",
       "25%        0.000000  2.020022e+07      2.000000  8.000060e+12  4.000000e+03   \n",
       "50%        1.000000  2.020022e+07      5.000000  1.600010e+13  8.980000e+03   \n",
       "75%        1.000000  2.020022e+07      7.000000  2.500010e+13  1.675000e+04   \n",
       "max        1.000000  2.020023e+07      9.000000  3.200010e+13  1.760000e+06   \n",
       "\n",
       "                age  \n",
       "count  36111.000000  \n",
       "mean      72.055219  \n",
       "std      170.787184  \n",
       "min       16.000000  \n",
       "25%       35.000000  \n",
       "50%       40.000000  \n",
       "75%       48.000000  \n",
       "max      999.000000  "
      ]
     },
     "execution_count": 11,
     "metadata": {},
     "output_type": "execute_result"
    }
   ],
   "source": [
    "df.describe()"
   ]
  },
  {
   "cell_type": "code",
   "execution_count": 12,
   "metadata": {},
   "outputs": [
    {
     "data": {
      "text/html": [
       "<div>\n",
       "<style scoped>\n",
       "    .dataframe tbody tr th:only-of-type {\n",
       "        vertical-align: middle;\n",
       "    }\n",
       "\n",
       "    .dataframe tbody tr th {\n",
       "        vertical-align: top;\n",
       "    }\n",
       "\n",
       "    .dataframe thead th {\n",
       "        text-align: right;\n",
       "    }\n",
       "</style>\n",
       "<table border=\"1\" class=\"dataframe\">\n",
       "  <thead>\n",
       "    <tr style=\"text-align: right;\">\n",
       "      <th></th>\n",
       "      <th>test_option</th>\n",
       "      <th>user_id</th>\n",
       "      <th>avg_saleprice</th>\n",
       "    </tr>\n",
       "  </thead>\n",
       "  <tbody>\n",
       "    <tr>\n",
       "      <th>0</th>\n",
       "      <td>0.0</td>\n",
       "      <td>10012</td>\n",
       "      <td>10593.617021</td>\n",
       "    </tr>\n",
       "    <tr>\n",
       "      <th>1</th>\n",
       "      <td>0.0</td>\n",
       "      <td>10015</td>\n",
       "      <td>33533.333333</td>\n",
       "    </tr>\n",
       "    <tr>\n",
       "      <th>2</th>\n",
       "      <td>0.0</td>\n",
       "      <td>10020</td>\n",
       "      <td>10839.473684</td>\n",
       "    </tr>\n",
       "    <tr>\n",
       "      <th>3</th>\n",
       "      <td>0.0</td>\n",
       "      <td>10026</td>\n",
       "      <td>3833.333333</td>\n",
       "    </tr>\n",
       "    <tr>\n",
       "      <th>4</th>\n",
       "      <td>0.0</td>\n",
       "      <td>1003</td>\n",
       "      <td>10152.500000</td>\n",
       "    </tr>\n",
       "    <tr>\n",
       "      <th>...</th>\n",
       "      <td>...</td>\n",
       "      <td>...</td>\n",
       "      <td>...</td>\n",
       "    </tr>\n",
       "    <tr>\n",
       "      <th>3750</th>\n",
       "      <td>1.0</td>\n",
       "      <td>997</td>\n",
       "      <td>35170.000000</td>\n",
       "    </tr>\n",
       "    <tr>\n",
       "      <th>3751</th>\n",
       "      <td>1.0</td>\n",
       "      <td>9970</td>\n",
       "      <td>11899.565217</td>\n",
       "    </tr>\n",
       "    <tr>\n",
       "      <th>3752</th>\n",
       "      <td>1.0</td>\n",
       "      <td>9977</td>\n",
       "      <td>14155.833333</td>\n",
       "    </tr>\n",
       "    <tr>\n",
       "      <th>3753</th>\n",
       "      <td>1.0</td>\n",
       "      <td>9980</td>\n",
       "      <td>10266.000000</td>\n",
       "    </tr>\n",
       "    <tr>\n",
       "      <th>3754</th>\n",
       "      <td>1.0</td>\n",
       "      <td>9985</td>\n",
       "      <td>24048.000000</td>\n",
       "    </tr>\n",
       "  </tbody>\n",
       "</table>\n",
       "<p>3755 rows × 3 columns</p>\n",
       "</div>"
      ],
      "text/plain": [
       "      test_option user_id  avg_saleprice\n",
       "0             0.0   10012   10593.617021\n",
       "1             0.0   10015   33533.333333\n",
       "2             0.0   10020   10839.473684\n",
       "3             0.0   10026    3833.333333\n",
       "4             0.0    1003   10152.500000\n",
       "...           ...     ...            ...\n",
       "3750          1.0     997   35170.000000\n",
       "3751          1.0    9970   11899.565217\n",
       "3752          1.0    9977   14155.833333\n",
       "3753          1.0    9980   10266.000000\n",
       "3754          1.0    9985   24048.000000\n",
       "\n",
       "[3755 rows x 3 columns]"
      ]
     },
     "execution_count": 12,
     "metadata": {},
     "output_type": "execute_result"
    }
   ],
   "source": [
    "meandf = df.groupby(['test_option','user_id']).sale_price.mean().to_frame().reset_index()\n",
    "meandf.columns = ['test_option', 'user_id', 'avg_saleprice']\n",
    "meandf"
   ]
  },
  {
   "cell_type": "markdown",
   "metadata": {},
   "source": [
    "Step 3: plot average sale price distribution"
   ]
  },
  {
   "cell_type": "code",
   "execution_count": 13,
   "metadata": {},
   "outputs": [],
   "source": [
    "optionA = meandf[meandf[\"test_option\"] == 0]\n",
    "\n",
    "optionB = meandf[meandf[\"test_option\"] == 1]"
   ]
  },
  {
   "cell_type": "code",
   "execution_count": 14,
   "metadata": {},
   "outputs": [
    {
     "data": {
      "image/png": "[encoded data removed]",
      "text/plain": [
       "<Figure size 504x288 with 1 Axes>"
      ]
     },
     "metadata": {
      "needs_background": "light"
     },
     "output_type": "display_data"
    },
    {
     "data": {
      "image/png": "[encoded data removed]",
      "text/plain": [
       "<Figure size 432x288 with 1 Axes>"
      ]
     },
     "metadata": {
      "needs_background": "light"
     },
     "output_type": "display_data"
    }
   ],
   "source": [
    "plt.figure(figsize=(7,4))\n",
    "sns.distplot(optionA[\"avg_saleprice\"])\n",
    "plt.title(\"sale distribution\")\n",
    "plt.xlim(-100,200000)\n",
    "plt.show()\n",
    "\n",
    "sns.distplot(optionA[\"avg_saleprice\"])\n",
    "plt.title(\"sale distribution\")\n",
    "plt.xlim(-100,200000)\n",
    "plt.show()"
   ]
  },
  {
   "cell_type": "markdown",
   "metadata": {},
   "source": [
    "According the plot, We plot the histogram of the data to check if it approximately follows a Normal distribution, so we use t-test."
   ]
  },
  {
   "cell_type": "code",
   "execution_count": 15,
   "metadata": {},
   "outputs": [
    {
     "data": {
      "text/plain": [
       "(1896, 22567.766252096506, 52918.253489260474)"
      ]
     },
     "execution_count": 15,
     "metadata": {},
     "output_type": "execute_result"
    }
   ],
   "source": [
    "n1 = len(optionA)\n",
    "mu1 = optionA[\"avg_saleprice\"].mean()\n",
    "sd1 = optionA[\"avg_saleprice\"].std()\n",
    "\n",
    "(n1, mu1, sd1)\n"
   ]
  },
  {
   "cell_type": "code",
   "execution_count": 16,
   "metadata": {},
   "outputs": [
    {
     "data": {
      "text/plain": [
       "(1859, 24859.38500067868, 62873.50382802919)"
      ]
     },
     "execution_count": 16,
     "metadata": {},
     "output_type": "execute_result"
    }
   ],
   "source": [
    "n2 = len(optionB)\n",
    "mu2 = optionB[\"avg_saleprice\"].mean()\n",
    "sd2 = optionB[\"avg_saleprice\"].std()\n",
    "\n",
    "(n2, mu2, sd2)"
   ]
  },
  {
   "cell_type": "markdown",
   "metadata": {},
   "source": [
    "Step 4: \n",
    "\n",
    "\n",
    "Use Levene test to check variance equal or unequal\n",
    "Use two-sample t-test since variance statistically equal.\n",
    "\n",
    "P-value for levene test = 1.55 >(alpha = .05), we accept Null hypothesis that variance are statistically equal between option A and option B."
   ]
  },
  {
   "cell_type": "code",
   "execution_count": 17,
   "metadata": {},
   "outputs": [
    {
     "data": {
      "text/plain": [
       "LeveneResult(statistic=54.95795134141681, pvalue=1.548152186975087e-13)"
      ]
     },
     "execution_count": 17,
     "metadata": {},
     "output_type": "execute_result"
    }
   ],
   "source": [
    "scipy.stats.levene(optionA['avg_saleprice'], optionB['avg_saleprice'], center = 'trimmed')"
   ]
  },
  {
   "cell_type": "code",
   "execution_count": 18,
   "metadata": {},
   "outputs": [
    {
     "name": "stdout",
     "output_type": "stream",
     "text": [
      "t = -1.2092473015201697 p_two = 0.22664402169028497 degree of freedom= 3753.0\n"
     ]
    }
   ],
   "source": [
    "t, p_two, degreef = sm.stats.ttest_ind(optionA[\"avg_saleprice\"], optionB[\"avg_saleprice\"],alternative=\"two-sided\")\n",
    "\n",
    "print(\"t =\", t, \"p_two =\", p_two, \"degree of freedom=\", degreef)"
   ]
  },
  {
   "cell_type": "code",
   "execution_count": 19,
   "metadata": {},
   "outputs": [],
   "source": [
    "alpha = 0.05"
   ]
  },
  {
   "cell_type": "code",
   "execution_count": 20,
   "metadata": {},
   "outputs": [
    {
     "name": "stdout",
     "output_type": "stream",
     "text": [
      "Reject Null hypothesis\n",
      "Alternative hypothesis is accept, there is statistically difference between option A and option B\n"
     ]
    }
   ],
   "source": [
    "if(p_two <alpha/2):\n",
    "    print('NOT Reject Null hypothesis')\n",
    "    print('Alternative hypothesis is reject, there is NO statistically difference between option A and option B')\n",
    "else:\n",
    "    print('Reject Null hypothesis')\n",
    "    print('Alternative hypothesis is accept, there is statistically difference between option A and option B')"
   ]
  },
  {
   "cell_type": "markdown",
   "metadata": {},
   "source": [
    "Conclusion of the hypothesis test\n",
    "\n",
    "Since the p-value (0.22) is greater than alpha(0.05)/2, with degree of freedom = 3753. we reject the Null hypothesis. That means the average sale price per buyer is statistically difference between the two group.\n"
   ]
  },
  {
   "cell_type": "markdown",
   "metadata": {},
   "source": [
    "Step 5: CI "
   ]
  },
  {
   "cell_type": "code",
   "execution_count": 21,
   "metadata": {},
   "outputs": [],
   "source": [
    "t_ci = 2.0141\n",
    "se = np.sqrt(np.square(sd1/n1) + np.square(sd2/n2))\n",
    "sample_mean = (mu1-mu2)\n",
    "a = (sample_mean - t_ci * se).astype(np.int64)\n",
    "b = (sample_mean + t_ci * se).astype(np.int64)"
   ]
  },
  {
   "cell_type": "code",
   "execution_count": 22,
   "metadata": {},
   "outputs": [
    {
     "name": "stdout",
     "output_type": "stream",
     "text": [
      " CI of difference between two mean, 95% confidence level CI = [%f, %f] (-2379, -2203)\n"
     ]
    }
   ],
   "source": [
    "print(' CI of difference between two mean, 95% confidence level CI = [%f, %f]', (a,b))"
   ]
  },
  {
   "cell_type": "markdown",
   "metadata": {},
   "source": [
    "Step 6: Cohen's d to indicate standardised difference between two means"
   ]
  },
  {
   "cell_type": "code",
   "execution_count": 23,
   "metadata": {},
   "outputs": [
    {
     "name": "stdout",
     "output_type": "stream",
     "text": [
      "d =  -0.03946946468484605\n"
     ]
    }
   ],
   "source": [
    "'''\n",
    "Cohen's d is small\n",
    "'''\n",
    "sp = np.sqrt(((n1-1) * np.square(sd1) + (n2-1) * np.square(sd2)) / (n1 + n2 -2))\n",
    "d = (mu1 - mu2) / sp\n",
    "print('d = ', d)"
   ]
  },
  {
   "cell_type": "markdown",
   "metadata": {},
   "source": [
    "boxplot below shows "
   ]
  },
  {
   "cell_type": "code",
   "execution_count": 24,
   "metadata": {},
   "outputs": [
    {
     "data": {
      "image/png": "[encoded data removed]",
      "text/plain": [
       "<Figure size 432x288 with 1 Axes>"
      ]
     },
     "metadata": {
      "needs_background": "light"
     },
     "output_type": "display_data"
    }
   ],
   "source": [
    "sns.boxplot(x=\"test_option\", y=\"avg_saleprice\", data=meandf)\n",
    "plt.ylim(0,60000)\n",
    "plt.show()"
   ]
  },
  {
   "cell_type": "markdown",
   "metadata": {},
   "source": [
    "Histogram below show approximate normal distribution."
   ]
  },
  {
   "cell_type": "code",
   "execution_count": 25,
   "metadata": {
    "scrolled": true
   },
   "outputs": [
    {
     "data": {
      "image/png": "[encoded data removed]",
      "text/plain": [
       "<Figure size 504x288 with 1 Axes>"
      ]
     },
     "metadata": {
      "needs_background": "light"
     },
     "output_type": "display_data"
    },
    {
     "data": {
      "image/png": "[encoded data removed]",
      "text/plain": [
       "<Figure size 504x288 with 1 Axes>"
      ]
     },
     "metadata": {
      "needs_background": "light"
     },
     "output_type": "display_data"
    }
   ],
   "source": [
    "plt.figure(figsize=(7,4))\n",
    "plt.title(\"OptionA histogram\",fontsize=16)\n",
    "plt.hist(optionA[\"avg_saleprice\"].dropna(),edgecolor='k',color='pink',bins=25, range = [0,70000])\n",
    "plt.show()\n",
    "\n",
    "plt.figure(figsize=(7,4))\n",
    "plt.title(\"OptionB histogram\",fontsize=16)\n",
    "plt.hist(optionB[\"avg_saleprice\"].dropna(),edgecolor='k',color='blue',bins=25, range = [0,70000])\n",
    "plt.show()"
   ]
  },
  {
   "cell_type": "code",
   "execution_count": 26,
   "metadata": {
    "scrolled": true
   },
   "outputs": [
    {
     "data": {
      "image/png": "[encoded data removed]",
      "text/plain": [
       "<Figure size 432x288 with 1 Axes>"
      ]
     },
     "metadata": {
      "needs_background": "light"
     },
     "output_type": "display_data"
    }
   ],
   "source": [
    "sns.boxplot(x=\"test_option\", y=\"age\", data=df[df[\"age\"]<100])\n",
    "plt.show()"
   ]
  },
  {
   "cell_type": "code",
   "execution_count": 27,
   "metadata": {},
   "outputs": [
    {
     "data": {
      "text/plain": [
       "<matplotlib.axes._subplots.AxesSubplot at 0x7fd6041d1ac8>"
      ]
     },
     "execution_count": 27,
     "metadata": {},
     "output_type": "execute_result"
    },
    {
     "data": {
      "image/png": "[encoded data removed]",
      "text/plain": [
       "<Figure size 432x288 with 1 Axes>"
      ]
     },
     "metadata": {
      "needs_background": "light"
     },
     "output_type": "display_data"
    }
   ],
   "source": [
    "df.sale_price.plot()"
   ]
  },
  {
   "cell_type": "code",
   "execution_count": null,
   "metadata": {},
   "outputs": [],
   "source": []
  }
 ],
 "metadata": {
  "kernelspec": {
   "display_name": "Python 3",
   "language": "python",
   "name": "python3"
  },
  "language_info": {
   "codemirror_mode": {
    "name": "ipython",
    "version": 3
   },
   "file_extension": ".py",
   "mimetype": "text/x-python",
   "name": "python",
   "nbconvert_exporter": "python",
   "pygments_lexer": "ipython3",
   "version": "3.7.3"
  }
 },
 "nbformat": 4,
 "nbformat_minor": 2
}
